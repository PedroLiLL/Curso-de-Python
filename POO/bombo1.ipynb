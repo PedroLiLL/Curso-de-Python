{
 "cells": [
  {
   "attachments": {},
   "cell_type": "markdown",
   "metadata": {},
   "source": [
    "1) Motocicletas"
   ]
  },
  {
   "cell_type": "code",
   "execution_count": 5,
   "metadata": {},
   "outputs": [],
   "source": [
    "class Motocicleta:\n",
    "    def __init__(self,color,matricula,combustible_litros,numero_ruedas,marca,modelo,fecha_fabricacion,velocidad_maxima,peso):\n",
    "        self.color = color\n",
    "        self.matricula = matricula\n",
    "        self.combustible_litros = combustible_litros\n",
    "        self.numero_ruedas = numero_ruedas\n",
    "        self.marca = marca\n",
    "        self.modelo = modelo\n",
    "        self.fecha_fabricacion = fecha_fabricacion\n",
    "        self.velocidad_maxima = velocidad_maxima\n",
    "        self.peso = peso\n",
    "        self.uso = 0\n",
    "        self.motor = False\n",
    "\n",
    "    def arrancar(self):\n",
    "        if(self.motor == False):\n",
    "            self.motor = True\n",
    "        else:\n",
    "            print(\"El motor ya está en marcha\")\n",
    "    \n",
    "    def detener(self):\n",
    "        if(self.motor == True):\n",
    "            self.motor = False\n",
    "        else:\n",
    "            print(\"El motor ya se detuvo\")"
   ]
  },
  {
   "cell_type": "code",
   "execution_count": 21,
   "metadata": {},
   "outputs": [
    {
     "name": "stdout",
     "output_type": "stream",
     "text": [
      "El motor ya está en marcha\n",
      "El precio de la motocicleta Ducatti modelo Yokohama es de 3600 dólares\n"
     ]
    }
   ],
   "source": [
    "moto1 = Motocicleta('Negro','FGHT456',10,2,'Ducatti','Yokohama',2021,120,150)\n",
    "moto1.arrancar()\n",
    "precio_moto1 = 3600\n",
    "print('El precio de la motocicleta', moto1.marca,'modelo', moto1.modelo,'es de',precio_moto1,'dólares')"
   ]
  },
  {
   "cell_type": "code",
   "execution_count": 25,
   "metadata": {},
   "outputs": [],
   "source": [
    "class Motocicleta:\n",
    "    def __init__(self,color,matricula,combustible_litros,numero_ruedas,marca,modelo,fecha_fabricacion,velocidad_maxima,peso,precio):\n",
    "        self.color = color\n",
    "        self.matricula = matricula\n",
    "        self.combustible_litros = combustible_litros\n",
    "        self.numero_ruedas = numero_ruedas\n",
    "        self.marca = marca\n",
    "        self.modelo = modelo\n",
    "        self.fecha_fabricacion = fecha_fabricacion\n",
    "        self.velocidad_maxima = velocidad_maxima\n",
    "        self.peso = peso\n",
    "        self.precio = precio\n",
    "        self.uso = 0\n",
    "        self.motor = False\n",
    "\n",
    "    def arrancar(self):\n",
    "        if(self.motor == False):\n",
    "            self.motor = True\n",
    "        else:\n",
    "            print(\"El motor ya está en marcha\")\n",
    "    \n",
    "    def detener(self):\n",
    "        if(self.motor == True):\n",
    "            self.motor = False\n",
    "        else:\n",
    "            print(\"El motor ya se detuvo\")\n",
    "    \n",
    "    def obtenerPrecio(self):\n",
    "        return self.precio"
   ]
  },
  {
   "cell_type": "code",
   "execution_count": 26,
   "metadata": {},
   "outputs": [
    {
     "name": "stdout",
     "output_type": "stream",
     "text": [
      "El precio de la motocicleta Harley Davidson modelo Circles es de 4200 dólares\n"
     ]
    }
   ],
   "source": [
    "moto2 = Motocicleta('Rojo','REKT3657',12,2,'Harley Davidson','Circles',2022,150,150,4200)\n",
    "print('El precio de la motocicleta', moto2.marca,'modelo', moto2.modelo,'es de',moto2.obtenerPrecio(),'dólares')"
   ]
  }
 ],
 "metadata": {
  "kernelspec": {
   "display_name": "Python 3",
   "language": "python",
   "name": "python3"
  },
  "language_info": {
   "codemirror_mode": {
    "name": "ipython",
    "version": 3
   },
   "file_extension": ".py",
   "mimetype": "text/x-python",
   "name": "python",
   "nbconvert_exporter": "python",
   "pygments_lexer": "ipython3",
   "version": "3.11.3"
  },
  "orig_nbformat": 4
 },
 "nbformat": 4,
 "nbformat_minor": 2
}
