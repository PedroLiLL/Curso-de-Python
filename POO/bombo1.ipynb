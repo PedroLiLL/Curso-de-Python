{
 "cells": [
  {
   "attachments": {},
   "cell_type": "markdown",
   "metadata": {},
   "source": [
    "1) Motocicletas"
   ]
  },
  {
   "cell_type": "code",
   "execution_count": 5,
   "metadata": {},
   "outputs": [],
   "source": [
    "class Motocicleta:\n",
    "    def __init__(self,color,matricula,combustible_litros,numero_ruedas,marca,modelo,fecha_fabricacion,velocidad_maxima,peso):\n",
    "        self.color = color\n",
    "        self.matricula = matricula\n",
    "        self.combustible_litros = combustible_litros\n",
    "        self.numero_ruedas = numero_ruedas\n",
    "        self.marca = marca\n",
    "        self.modelo = modelo\n",
    "        self.fecha_fabricacion = fecha_fabricacion\n",
    "        self.velocidad_maxima = velocidad_maxima\n",
    "        self.peso = peso\n",
    "        self.uso = 0\n",
    "        self.motor = False\n",
    "\n",
    "    def arrancar(self):\n",
    "        if(self.motor == False):\n",
    "            self.motor = True\n",
    "        else:\n",
    "            print(\"El motor ya está en marcha\")\n",
    "    \n",
    "    def detener(self):\n",
    "        if(self.motor == True):\n",
    "            self.motor = False\n",
    "        else:\n",
    "            print(\"El motor ya se detuvo\")"
   ]
  },
  {
   "cell_type": "code",
   "execution_count": 21,
   "metadata": {},
   "outputs": [
    {
     "name": "stdout",
     "output_type": "stream",
     "text": [
      "El motor ya está en marcha\n",
      "El precio de la motocicleta Ducatti modelo Yokohama es de 3600 dólares\n"
     ]
    }
   ],
   "source": [
    "moto1 = Motocicleta('Negro','FGHT456',10,2,'Ducatti','Yokohama',2021,120,150)\n",
    "moto1.arrancar()\n",
    "precio_moto1 = 3600\n",
    "print('El precio de la motocicleta', moto1.marca,'modelo', moto1.modelo,'es de',precio_moto1,'dólares')"
   ]
  },
  {
   "cell_type": "code",
   "execution_count": 25,
   "metadata": {},
   "outputs": [],
   "source": [
    "class Motocicleta:\n",
    "    def __init__(self,color,matricula,combustible_litros,numero_ruedas,marca,modelo,fecha_fabricacion,velocidad_maxima,peso,precio):\n",
    "        self.color = color\n",
    "        self.matricula = matricula\n",
    "        self.combustible_litros = combustible_litros\n",
    "        self.numero_ruedas = numero_ruedas\n",
    "        self.marca = marca\n",
    "        self.modelo = modelo\n",
    "        self.fecha_fabricacion = fecha_fabricacion\n",
    "        self.velocidad_maxima = velocidad_maxima\n",
    "        self.peso = peso\n",
    "        self.precio = precio\n",
    "        self.uso = 0\n",
    "        self.motor = False\n",
    "\n",
    "    def arrancar(self):\n",
    "        if(self.motor == False):\n",
    "            self.motor = True\n",
    "        else:\n",
    "            print(\"El motor ya está en marcha\")\n",
    "    \n",
    "    def detener(self):\n",
    "        if(self.motor == True):\n",
    "            self.motor = False\n",
    "        else:\n",
    "            print(\"El motor ya se detuvo\")\n",
    "    \n",
    "    def obtenerPrecio(self):\n",
    "        return self.precio"
   ]
  },
  {
   "cell_type": "code",
   "execution_count": 26,
   "metadata": {},
   "outputs": [
    {
     "name": "stdout",
     "output_type": "stream",
     "text": [
      "El precio de la motocicleta Harley Davidson modelo Circles es de 4200 dólares\n"
     ]
    }
   ],
   "source": [
    "moto2 = Motocicleta('Rojo','REKT3657',12,2,'Harley Davidson','Circles',2022,150,150,4200)\n",
    "print('El precio de la motocicleta', moto2.marca,'modelo', moto2.modelo,'es de',moto2.obtenerPrecio(),'dólares')"
   ]
  },
  {
   "attachments": {},
   "cell_type": "markdown",
   "metadata": {},
   "source": [
    "Ejercicio 2"
   ]
  },
  {
   "cell_type": "code",
   "execution_count": 12,
   "metadata": {},
   "outputs": [],
   "source": [
    "class Cuenta:\n",
    "    def __init__(self,titular,cantidad):\n",
    "        self.titular = titular\n",
    "        self.cantidad = cantidad\n",
    "    \n",
    "    def mostrar_datos(self):\n",
    "        print(f\"Titular: {self.titular}, Cantidad: {self.cantidad}\")\n",
    "    \n",
    "    def recargar(self,saldo):\n",
    "        if(saldo <= 0):\n",
    "            print(\"Ingrese una cantidad positiva\")\n",
    "        else:\n",
    "            self.cantidad += saldo\n",
    "            print(f\"Saldo actual: {self.cantidad}\")\n",
    "    \n",
    "    def retirar(self,saldo):\n",
    "        if(saldo <= 0):\n",
    "            print(\"Ingrese una cantidad positiva\")\n",
    "        else:\n",
    "            self.cantidad -= saldo\n",
    "            print(f\"Saldo actual: {self.cantidad}\")"
   ]
  },
  {
   "cell_type": "code",
   "execution_count": 29,
   "metadata": {},
   "outputs": [
    {
     "name": "stdout",
     "output_type": "stream",
     "text": [
      "Saldo actual: 2500\n",
      "Saldo actual: 3850\n",
      "Saldo actual: 3150\n"
     ]
    }
   ],
   "source": [
    "cliente1 = Cuenta('Pedro',0)\n",
    "cliente1.recargar(2500)\n",
    "cliente1.recargar(1350)\n",
    "cliente1.retirar(700)"
   ]
  },
  {
   "attachments": {},
   "cell_type": "markdown",
   "metadata": {},
   "source": [
    "- Realizar un programa que conste de una clase llamada Alumno que tenga como atributos el nombre y la nota del alumno. Definir los métodos para inicializar sus atributos, imprimirlos y mostrar un mensaje con el resultado de la nota y si ha aprobado o no."
   ]
  },
  {
   "cell_type": "code",
   "execution_count": 26,
   "metadata": {},
   "outputs": [],
   "source": [
    "class Alumno:\n",
    "    def __init__(self,nombre, nota):\n",
    "        self.nombre = nombre\n",
    "        self.nota = nota\n",
    "    \n",
    "    def aprobado(self):\n",
    "        if(self.nota >= 11):\n",
    "            print(f\"APROBADO\")\n",
    "        else:\n",
    "            print(f\"DESAPROBADO\")\n",
    "    \n",
    "    def mostrar_resultado(self):\n",
    "        print(f\"Nombre: {self.nombre}, Nota: {self.nota}, resultado:\")\n",
    "        self.aprobado()"
   ]
  },
  {
   "cell_type": "code",
   "execution_count": 28,
   "metadata": {},
   "outputs": [
    {
     "name": "stdout",
     "output_type": "stream",
     "text": [
      "Nombre: Steve, Nota: 10, resultado:\n",
      "DESAPROBADO\n",
      "Nombre: Sienna, Nota: 18, resultado:\n",
      "APROBADO\n",
      "Nombre: Justin, Nota: 20, resultado:\n",
      "APROBADO\n",
      "Nombre: Danillo, Nota: 9, resultado:\n",
      "DESAPROBADO\n"
     ]
    }
   ],
   "source": [
    "steve = Alumno('Steve',10)\n",
    "sienna = Alumno('Sienna',18)\n",
    "justin = Alumno('Justin',20)\n",
    "danillo = Alumno('Danillo',9)\n",
    "steve.mostrar_resultado()\n",
    "sienna.mostrar_resultado()\n",
    "justin.mostrar_resultado()\n",
    "danillo.mostrar_resultado()"
   ]
  },
  {
   "attachments": {},
   "cell_type": "markdown",
   "metadata": {},
   "source": [
    "- Realizar un programa que tenga una clase Persona con las siguientes características. La clase tendrá como atributos el nombre y la edad de una persona. Implementar los métodos necesarios para inicializar los atributos, mostrar los datos e indicar si la persona es mayor de edad o no."
   ]
  },
  {
   "cell_type": "code",
   "execution_count": 38,
   "metadata": {},
   "outputs": [],
   "source": [
    "class Persona:\n",
    "    def __init__(self, nombre, edad):\n",
    "        self.nombre = nombre\n",
    "        self.edad = edad\n",
    "    \n",
    "    def mostrar_datos(self):\n",
    "        print(f\"Nombre: {self.nombre}, Edad: {self.edad}\")\n",
    "    \n",
    "    def es_Mayor_de_Edad(self):\n",
    "        if(self.edad >= 18):\n",
    "            print(f\"{self.nombre} es mayor de edad\")\n",
    "        else:\n",
    "            print(f\"{self.nombre} aun es menor de edad\")"
   ]
  },
  {
   "cell_type": "code",
   "execution_count": 39,
   "metadata": {},
   "outputs": [
    {
     "name": "stdout",
     "output_type": "stream",
     "text": [
      "Pedro es mayor de edad\n",
      "Claudia es mayor de edad\n",
      "Erylin aun es menor de edad\n"
     ]
    }
   ],
   "source": [
    "pedro = Persona(\"Pedro\",24)\n",
    "claudia = Persona(\"Claudia\",29)\n",
    "erylin = Persona(\"Erylin\",14)\n",
    "pedro.es_Mayor_de_Edad()\n",
    "claudia.es_Mayor_de_Edad()\n",
    "erylin.es_Mayor_de_Edad()"
   ]
  }
 ],
 "metadata": {
  "kernelspec": {
   "display_name": "Python 3",
   "language": "python",
   "name": "python3"
  },
  "language_info": {
   "codemirror_mode": {
    "name": "ipython",
    "version": 3
   },
   "file_extension": ".py",
   "mimetype": "text/x-python",
   "name": "python",
   "nbconvert_exporter": "python",
   "pygments_lexer": "ipython3",
   "version": "3.11.3"
  },
  "orig_nbformat": 4
 },
 "nbformat": 4,
 "nbformat_minor": 2
}
