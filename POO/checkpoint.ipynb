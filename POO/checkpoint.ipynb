{
 "cells": [
  {
   "cell_type": "code",
   "execution_count": null,
   "metadata": {},
   "outputs": [],
   "source": [
    "def ordenarDiccionario(diccionario_par, clave, descendente=True):\n",
    "    '''\n",
    "    Esta función recibe como parámetro un diccionario, cuyas listas de valores tienen el mismo\n",
    "    tamaño y sus elementos enésimos están asociados. Y otros dos parámetros que indican\n",
    "    la clave por la cual debe ordenarse y si es descendente o ascendente.\n",
    "    La función debe devolver el diccionario ordenado, teniendo en cuenta de no perder la\n",
    "    relación entre los elementos enésimos.\n",
    "    Recibe tres argumentos:\n",
    "        diccionario:    Diccionario a ordenar.\n",
    "        clave:          Clave del diccionario recibido, por la cual ordenar.\n",
    "        descendente:    Un valor booleano, que al ser verdadero indica ordenamiento ascendente y \n",
    "                        descendente si es falso. \n",
    "                        Debe tratarse de un parámetro por defecto en True.\n",
    "    Si el parámetro diccionario no es un tipo de dato diccionario ó el parámetro clave no \n",
    "    se encuentra dentro de las claves del diccionario, debe devolver nulo.\n",
    "    Ej:\n",
    "        dicc = {'clave1':['c','a','b'],\n",
    "                'clave2':['casa','auto','barco'],\n",
    "                'clave3':[1,2,3]}\n",
    "        OrdenarDiccionario(dicc, 'clave1')          debe retornar {'clave1':['a','b','c'],\n",
    "                                                                'clave2':['auto','barco','casa'],\n",
    "                                                                'clave3':[2,3,1]}\n",
    "        OrdenarDiccionario(dicc, 'clave3', False)   debe retornar {'clave1':['b','a','c'],\n",
    "                                                                'clave2':['barco','auto','casa'],\n",
    "                                                                'clave3':[3,2,1]}\n",
    "    '''"
   ]
  },
  {
   "cell_type": "code",
   "execution_count": 61,
   "metadata": {},
   "outputs": [],
   "source": [
    "def ordenarDiccionario(diccionario_par, clave, descendente=True):\n",
    "    diccionario_ordenado = {}\n",
    "    indice_ordenado = sorted(range(len(diccionario_par[clave])), key=lambda num: diccionario_par[clave][num], reverse=descendente)\n",
    "\n",
    "    for claves, valores in diccionario_par.items():\n",
    "        diccionario_ordenado[claves] = []\n",
    "        for i in indice_ordenado:\n",
    "            diccionario_ordenado[claves].append(valores[i])\n",
    "    \n",
    "    return diccionario_ordenado"
   ]
  },
  {
   "cell_type": "code",
   "execution_count": 63,
   "metadata": {},
   "outputs": [
    {
     "name": "stdout",
     "output_type": "stream",
     "text": [
      "{'clave1': ['c', 'b', 'a'], 'clave2': ['casa', 'barco', 'auto'], 'clave3': [1, 3, 2]}\n",
      "{'clave1': ['c', 'a', 'b'], 'clave2': ['casa', 'auto', 'barco'], 'clave3': [1, 2, 3]}\n",
      "<class 'dict'>\n"
     ]
    }
   ],
   "source": [
    "dicc = {'clave1':['c','a','b'],\n",
    "                'clave2':['casa','auto','barco'],\n",
    "                'clave3':[1,2,3]}\n",
    "print(ordenarDiccionario(dicc,'clave1'))\n",
    "print(ordenarDiccionario(dicc, 'clave3', False))\n",
    "\n",
    "print(type(dicc))"
   ]
  },
  {
   "cell_type": "code",
   "execution_count": null,
   "metadata": {},
   "outputs": [],
   "source": [
    "def listaEnteros(inicio, tamanio):\n",
    "    '''\n",
    "    Esta función devuelve una lista de números enteros\n",
    "    Recibe dos argumentos:\n",
    "        inicio: Numero entero donde inicia la lista\n",
    "        tamanio: Cantidad de números enteros consecutivos\n",
    "    Ej:\n",
    "        ListaEnteros(10,5) debe retornar [10,11,12,13,14]\n",
    "    '''\n",
    "    #Tu código aca:\n",
    "    return 'Funcion incompleta'"
   ]
  },
  {
   "cell_type": "code",
   "execution_count": 3,
   "metadata": {},
   "outputs": [],
   "source": [
    "def listaEnteros(inicio, tamanio):\n",
    "    lista = list(range(inicio, inicio + tamanio))\n",
    "    return lista"
   ]
  },
  {
   "cell_type": "code",
   "execution_count": 5,
   "metadata": {},
   "outputs": [
    {
     "name": "stdout",
     "output_type": "stream",
     "text": [
      "[10, 11, 12, 13, 14]\n"
     ]
    }
   ],
   "source": [
    "print(listaEnteros(10,5))"
   ]
  },
  {
   "cell_type": "code",
   "execution_count": null,
   "metadata": {},
   "outputs": [],
   "source": [
    "def dividirDosNumeros(dividendo, divisor):\n",
    "    '''\n",
    "    Esta función devuelve dos valores, la parte entera de la división y su resto\n",
    "    Recibe dos argumentos:\n",
    "        dividendo: El número que va a ser dividido\n",
    "        divisor: El número que va a dividir\n",
    "    Ej:\n",
    "        DividirDosNumeros(10,3) debe retornar 3, 1\n",
    "    '''\n",
    "    #Tu código aca:\n",
    "    return 'Funcion incompleta'"
   ]
  },
  {
   "cell_type": "code",
   "execution_count": 9,
   "metadata": {},
   "outputs": [],
   "source": [
    "def dividirDosNumeros(dividendo, divisor):\n",
    "    if(divisor==0):\n",
    "        print(\"ERROR, divisor debe ser distinto de cero\")\n",
    "        return None\n",
    "    else:\n",
    "        parte_entera = dividendo//divisor \n",
    "        resto = dividendo % divisor\n",
    "        return parte_entera, resto"
   ]
  },
  {
   "cell_type": "code",
   "execution_count": 12,
   "metadata": {},
   "outputs": [
    {
     "name": "stdout",
     "output_type": "stream",
     "text": [
      "(3, 1)\n"
     ]
    }
   ],
   "source": [
    "print(dividirDosNumeros(10,3))"
   ]
  },
  {
   "cell_type": "code",
   "execution_count": null,
   "metadata": {},
   "outputs": [],
   "source": [
    "def claseAnimal(especie, color):\n",
    "    '''\n",
    "    Esta función devuelve un objeto instanciado de la clase Animal, \n",
    "    la cual debe tener los siguientes atributos:\n",
    "        Edad    (Un valor de tipo de dato entero, que debe inicializarse en cero)\n",
    "        Especie (Un valor de tipo de dato string)\n",
    "        Color   (Un valor de tipo de dato string)\n",
    "    y debe tener el siguiente método:\n",
    "        CumplirAnios  (este método debe sumar uno al atributo Edad y debe devolver ese valor)\n",
    "    Recibe dos argumento:\n",
    "        especie: Dato que se asignará al atributo Especie del objeto de la clase Animal\n",
    "        color: Dato que se asignará al atributo Color del objeto de la clase Animal\n",
    "    Ej:\n",
    "        a = ClaseAnimal('perro','blanco')\n",
    "        a.CumpliAnios() -> debe devolver 1\n",
    "        a.CumpliAnios() -> debe devolver 2\n",
    "        a.CumpliAnios() -> debe devolver 3\n",
    "    '''"
   ]
  },
  {
   "cell_type": "code",
   "execution_count": 16,
   "metadata": {},
   "outputs": [],
   "source": [
    "def claseAnimal(especie, color):\n",
    "    \n",
    "    class Animal:\n",
    "        def __init__(self, especie, color):\n",
    "            self.edad = 0\n",
    "            self.especie = especie\n",
    "            self.color = color\n",
    "        \n",
    "        def CumplirAnios(self):\n",
    "            self.edad += 1\n",
    "            return print(self.edad)\n",
    "        \n",
    "    animal = Animal(especie,color)\n",
    "    return(animal)"
   ]
  },
  {
   "cell_type": "code",
   "execution_count": 19,
   "metadata": {},
   "outputs": [
    {
     "name": "stdout",
     "output_type": "stream",
     "text": [
      "1\n",
      "2\n",
      "3\n"
     ]
    }
   ],
   "source": [
    "a = claseAnimal('perro','blanco')\n",
    "a.CumplirAnios()\n",
    "a.CumplirAnios()\n",
    "a.CumplirAnios()"
   ]
  },
  {
   "cell_type": "code",
   "execution_count": null,
   "metadata": {},
   "outputs": [],
   "source": [
    "def exponente(numero, exponente):\n",
    "    '''\n",
    "    Esta función devuelve el resultado de elevar el parámetro \"numero\" al parámetro \"exponente\"\n",
    "    Recibe dos argumentos:\n",
    "        numero: El número base en la operación exponencial\n",
    "        exponente: El número exponente en la operación exponencial\n",
    "    Ej:\n",
    "        Exponente(10,3) debe retornar 1000\n",
    "    '''"
   ]
  },
  {
   "cell_type": "code",
   "execution_count": 20,
   "metadata": {},
   "outputs": [],
   "source": [
    "def exponente(numero, exponente):\n",
    "    expo = numero**exponente\n",
    "    return expo"
   ]
  },
  {
   "cell_type": "code",
   "execution_count": 21,
   "metadata": {},
   "outputs": [
    {
     "name": "stdout",
     "output_type": "stream",
     "text": [
      "1000\n"
     ]
    }
   ],
   "source": [
    "print(exponente(10,3))"
   ]
  },
  {
   "cell_type": "code",
   "execution_count": null,
   "metadata": {},
   "outputs": [],
   "source": [
    "def listaPrimos(desde, hasta):\n",
    "    '''\n",
    "    Esta función devuelve una lista con los números primos entre los valores \"desde\" y \"hasta\"\n",
    "    pasados como argumento, siendo ambos inclusivos.\n",
    "    En caso de que alguno de los parámetros no sea de tipo entero y/o no sea mayor a cero, debe retornar nulo.\n",
    "    En caso de que el segundo parámetro sea mayor al primero, pero ambos mayores que cero,\n",
    "    debe retornar una lista vacía.\n",
    "    Recibe un argumento:\n",
    "        desde: Será el número a partir del cual se toma el rango\n",
    "        hasta: Será el número hasta el cual se tome el rango\n",
    "    Ej:\n",
    "        ListaPrimos(7,15) debe retornar [7,11,13]\n",
    "        ListaPrimos(100,99) debe retornar []\n",
    "        ListaPrimos(1,7) debe retonan [1,2,3,5,7]\n",
    "    '''"
   ]
  },
  {
   "cell_type": "code",
   "execution_count": 41,
   "metadata": {},
   "outputs": [],
   "source": [
    "def listaPrimos(desde, hasta):\n",
    "    \n",
    "    if(type(desde) != int or type(hasta) != int):\n",
    "        return None\n",
    "    else:\n",
    "        primos = []\n",
    "        if(desde > hasta):\n",
    "            return []\n",
    "        else:\n",
    "            for num in range(desde, hasta+1):\n",
    "                es_primo = True\n",
    "                for i in range(2,int(num**0.5)+1):\n",
    "                    if(num % i == 0):\n",
    "                        es_primo = False\n",
    "                        break\n",
    "                \n",
    "                if(es_primo):\n",
    "                    primos.append(num)\n",
    "    \n",
    "        return primos"
   ]
  },
  {
   "cell_type": "code",
   "execution_count": 42,
   "metadata": {},
   "outputs": [
    {
     "name": "stdout",
     "output_type": "stream",
     "text": [
      "[]\n",
      "None\n",
      "[1, 2, 3, 5, 7]\n"
     ]
    }
   ],
   "source": [
    "print(listaPrimos(100,99))\n",
    "print(listaPrimos(0,'66'))\n",
    "print(listaPrimos(1,7))"
   ]
  },
  {
   "cell_type": "code",
   "execution_count": null,
   "metadata": {},
   "outputs": [],
   "source": [
    "def listaRepetidos(lista):\n",
    "    '''\n",
    "    Esta función recibe como argumento una lista y devuelve una lista de tuplas donde cada \n",
    "    tupla contiene un valor de la lista original y las veces que se repite. Los valores \n",
    "    de la lista original no deben estar repetidos. \n",
    "    Debe respetarse el orden original en el que aparecen los elementos.\n",
    "    En caso de que el parámetro no sea de tipo lista debe retornar nulo.\n",
    "    Recibe un argumento:\n",
    "        lista: Será la lista que se va a evaluar.\n",
    "    Ej:\n",
    "        ListaRepetidos([]) debe retornar []\n",
    "        ListaRepetidos(['hola', 'mundo', 'hola', 13, 14]) \n",
    "            debe retornar [('hola',2),('mundo',1),(13,1),(14,1)]\n",
    "        ListaRepetidos([1,2,2,4]) debe retornar [(1,1),(2,2),(4,1)]\n",
    "\n",
    "        [] ----> []\n",
    "        ['hola', 'mundo', 'hola', 13, 14] ----> [('hola',2),('mundo',1),(13,1),(14,1)]\n",
    "        [1,2,2,4] ----> [(1,1),(2,2),(4,1)]\n",
    "    '''"
   ]
  },
  {
   "cell_type": "code",
   "execution_count": 44,
   "metadata": {},
   "outputs": [],
   "source": [
    "def listaRepetidos(lista):\n",
    "    \n",
    "    lista_repetidos = []\n",
    "    for elemento in lista:\n",
    "        if((elemento, lista.count(elemento)) not in lista_repetidos):\n",
    "            lista_repetidos.append((elemento, lista.count(elemento)))\n",
    "    \n",
    "    return lista_repetidos"
   ]
  },
  {
   "cell_type": "code",
   "execution_count": 46,
   "metadata": {},
   "outputs": [
    {
     "name": "stdout",
     "output_type": "stream",
     "text": [
      "[]\n",
      "[('hola', 2), ('mundo', 1), (13, 1), (14, 1)]\n",
      "[(1, 1), (2, 2), (4, 1)]\n"
     ]
    }
   ],
   "source": [
    "print(listaRepetidos([]))\n",
    "print(listaRepetidos(['hola', 'mundo', 'hola', 13, 14]))\n",
    "print(listaRepetidos([1,2,2,4]))"
   ]
  }
 ],
 "metadata": {
  "kernelspec": {
   "display_name": "Python 3",
   "language": "python",
   "name": "python3"
  },
  "language_info": {
   "codemirror_mode": {
    "name": "ipython",
    "version": 3
   },
   "file_extension": ".py",
   "mimetype": "text/x-python",
   "name": "python",
   "nbconvert_exporter": "python",
   "pygments_lexer": "ipython3",
   "version": "3.11.3"
  },
  "orig_nbformat": 4
 },
 "nbformat": 4,
 "nbformat_minor": 2
}
